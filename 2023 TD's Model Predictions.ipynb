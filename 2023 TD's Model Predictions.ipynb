{
 "cells": [
  {
   "cell_type": "markdown",
   "id": "f1a95fe9",
   "metadata": {},
   "source": [
    "## Comparing Model #2's prediction's to actual TD's scored in 2023\n",
    "### - The goal of this exercise is to practically apply this regression model. This model could give me insight on who I should draft in fantasy football next season. If a player fell short of their touchdown prediction, this means that the underlying statistcs are very good on this player and they may have just gotten unlucky when it comes to touchdowns. Therefore, these players will likely be undervalued in drafts. On the other hand, if a player outperfromed this model, this may indicate that his underlying metrics aren't very good and he got lucky when it comes to touchdowns scored. He will likely be overvalued in drafts and I can avoid him.\n",
    "### - After analyzing 75 of the top wide recievers, these are the players who most over performed the model: Mike Evans (-4.64), Jordan Addison (-3.45), Jakobi Meyers (-2.87) & Courtland Sutton (-2.86). Thes players may be overvalued in drafts, I might want to avoid adding them to my team due to their likely regression.\n",
    "### - After analyzing 75 of the top wide recievers, these are the players who most under performed the model: Drake London (5.04), Chris Godwin (3.96), and Amari Cooper (3.589). These players may be undervalued in drafts, are positive regression candidates, and I may want to draft them."
   ]
  },
  {
   "cell_type": "markdown",
   "id": "8fa9b465",
   "metadata": {},
   "source": [
    "## 1. Putting Model #2 into this new notebook"
   ]
  },
  {
   "cell_type": "code",
   "execution_count": 15,
   "id": "b0d68b07",
   "metadata": {},
   "outputs": [],
   "source": [
    "import numpy as np\n",
    "import matplotlib.pyplot as plt\n",
    "import seaborn as sns\n",
    "import pandas as pd\n",
    "import warnings"
   ]
  },
  {
   "cell_type": "code",
   "execution_count": 16,
   "id": "e700eabc",
   "metadata": {},
   "outputs": [],
   "source": [
    "dataset=pd.read_csv(\"Final Project Data.csv\")"
   ]
  },
  {
   "cell_type": "code",
   "execution_count": 17,
   "id": "55d43f0a",
   "metadata": {},
   "outputs": [],
   "source": [
    "x2=dataset.drop(columns = ['TD','PLAYER','Year', 'Player ID'])"
   ]
  },
  {
   "cell_type": "code",
   "execution_count": 18,
   "id": "a08107bf",
   "metadata": {},
   "outputs": [],
   "source": [
    "y2=dataset[['TD']]"
   ]
  },
  {
   "cell_type": "code",
   "execution_count": 19,
   "id": "be4eb436",
   "metadata": {},
   "outputs": [
    {
     "data": {
      "text/html": [
       "<div>\n",
       "<style scoped>\n",
       "    .dataframe tbody tr th:only-of-type {\n",
       "        vertical-align: middle;\n",
       "    }\n",
       "\n",
       "    .dataframe tbody tr th {\n",
       "        vertical-align: top;\n",
       "    }\n",
       "\n",
       "    .dataframe thead th {\n",
       "        text-align: right;\n",
       "    }\n",
       "</style>\n",
       "<table border=\"1\" class=\"dataframe\">\n",
       "  <thead>\n",
       "    <tr style=\"text-align: right;\">\n",
       "      <th></th>\n",
       "      <th>G</th>\n",
       "      <th>REC</th>\n",
       "      <th>YDS</th>\n",
       "      <th>Y/R</th>\n",
       "      <th>YBC</th>\n",
       "      <th>YBC/R</th>\n",
       "      <th>AIR</th>\n",
       "      <th>AIR/R</th>\n",
       "      <th>YAC</th>\n",
       "      <th>YAC/R</th>\n",
       "      <th>...</th>\n",
       "      <th>% TM</th>\n",
       "      <th>CATCHABLE</th>\n",
       "      <th>DROP</th>\n",
       "      <th>RZ TGT</th>\n",
       "      <th>10+ YDS</th>\n",
       "      <th>20+ YDS</th>\n",
       "      <th>30+ YDS</th>\n",
       "      <th>40+ YDS</th>\n",
       "      <th>50+ YDS</th>\n",
       "      <th>LNG</th>\n",
       "    </tr>\n",
       "  </thead>\n",
       "  <tbody>\n",
       "    <tr>\n",
       "      <th>66</th>\n",
       "      <td>17</td>\n",
       "      <td>35</td>\n",
       "      <td>489</td>\n",
       "      <td>14.0</td>\n",
       "      <td>275</td>\n",
       "      <td>7.9</td>\n",
       "      <td>388</td>\n",
       "      <td>11.1</td>\n",
       "      <td>214</td>\n",
       "      <td>6.1</td>\n",
       "      <td>...</td>\n",
       "      <td>0.077</td>\n",
       "      <td>37</td>\n",
       "      <td>2</td>\n",
       "      <td>4</td>\n",
       "      <td>23</td>\n",
       "      <td>9</td>\n",
       "      <td>3</td>\n",
       "      <td>2</td>\n",
       "      <td>0</td>\n",
       "      <td>41</td>\n",
       "    </tr>\n",
       "  </tbody>\n",
       "</table>\n",
       "<p>1 rows × 24 columns</p>\n",
       "</div>"
      ],
      "text/plain": [
       "     G  REC  YDS   Y/R  YBC  YBC/R  AIR  AIR/R  YAC  YAC/R  ...   % TM  \\\n",
       "66  17   35  489  14.0  275    7.9  388   11.1  214    6.1  ...  0.077   \n",
       "\n",
       "    CATCHABLE  DROP  RZ TGT  10+ YDS  20+ YDS  30+ YDS  40+ YDS  50+ YDS  LNG  \n",
       "66         37     2       4       23        9        3        2        0   41  \n",
       "\n",
       "[1 rows x 24 columns]"
      ]
     },
     "execution_count": 19,
     "metadata": {},
     "output_type": "execute_result"
    }
   ],
   "source": [
    "x2.sample()"
   ]
  },
  {
   "cell_type": "code",
   "execution_count": 20,
   "id": "bacf4bee",
   "metadata": {},
   "outputs": [
    {
     "data": {
      "text/html": [
       "<div>\n",
       "<style scoped>\n",
       "    .dataframe tbody tr th:only-of-type {\n",
       "        vertical-align: middle;\n",
       "    }\n",
       "\n",
       "    .dataframe tbody tr th {\n",
       "        vertical-align: top;\n",
       "    }\n",
       "\n",
       "    .dataframe thead th {\n",
       "        text-align: right;\n",
       "    }\n",
       "</style>\n",
       "<table border=\"1\" class=\"dataframe\">\n",
       "  <thead>\n",
       "    <tr style=\"text-align: right;\">\n",
       "      <th></th>\n",
       "      <th>TD</th>\n",
       "    </tr>\n",
       "  </thead>\n",
       "  <tbody>\n",
       "    <tr>\n",
       "      <th>249</th>\n",
       "      <td>2</td>\n",
       "    </tr>\n",
       "  </tbody>\n",
       "</table>\n",
       "</div>"
      ],
      "text/plain": [
       "     TD\n",
       "249   2"
      ]
     },
     "execution_count": 20,
     "metadata": {},
     "output_type": "execute_result"
    }
   ],
   "source": [
    "y2.sample()"
   ]
  },
  {
   "cell_type": "code",
   "execution_count": 21,
   "id": "872de2bc",
   "metadata": {},
   "outputs": [],
   "source": [
    "from sklearn.model_selection import train_test_split\n",
    "x2_train, x2_test, y2_train, y2_test=train_test_split(x2,y2,\n",
    "                                                 test_size=.30,\n",
    "                                                 random_state=42)"
   ]
  },
  {
   "cell_type": "code",
   "execution_count": 22,
   "id": "e565c456",
   "metadata": {},
   "outputs": [
    {
     "data": {
      "text/plain": [
       "LinearRegression()"
      ]
     },
     "execution_count": 22,
     "metadata": {},
     "output_type": "execute_result"
    }
   ],
   "source": [
    "from sklearn.linear_model import LinearRegression\n",
    "regressor=LinearRegression()\n",
    "regressor.fit(x2_train.values, y2_train)\n",
    "# fit for model training"
   ]
  },
  {
   "cell_type": "code",
   "execution_count": 23,
   "id": "a355654d",
   "metadata": {},
   "outputs": [
    {
     "name": "stdout",
     "output_type": "stream",
     "text": [
      "coefficients [[-7.65478096e-04  7.62655385e-02  1.36659530e-02 -3.52212708e-02\n",
      "  -4.74482566e-03  1.69014673e-02 -1.18897989e-04  3.80638681e-03\n",
      "  -9.49458008e-03  9.00032458e-03 -4.14151467e-03  1.63271669e-02\n",
      "   5.65878252e-02 -5.22485917e-02  8.45689035e+00 -6.90792395e-02\n",
      "   1.28008261e-01  2.22564599e-01 -4.94673538e-02  8.89349108e-02\n",
      "   3.33614468e-02 -8.90053073e-02  1.74722380e-01  4.33668486e-03]]\n"
     ]
    }
   ],
   "source": [
    "print(\"coefficients\", regressor.coef_)"
   ]
  },
  {
   "cell_type": "code",
   "execution_count": 24,
   "id": "9baa7afc",
   "metadata": {},
   "outputs": [
    {
     "name": "stdout",
     "output_type": "stream",
     "text": [
      "intercept [0.11725073]\n"
     ]
    }
   ],
   "source": [
    "print(\"intercept\", regressor.intercept_)"
   ]
  },
  {
   "cell_type": "code",
   "execution_count": 25,
   "id": "94700658",
   "metadata": {},
   "outputs": [
    {
     "data": {
      "text/plain": [
       "array([[0.67020334],\n",
       "       [1.69607081],\n",
       "       [1.90465046],\n",
       "       [1.33763312],\n",
       "       [6.63692012]])"
      ]
     },
     "execution_count": 25,
     "metadata": {},
     "output_type": "execute_result"
    }
   ],
   "source": [
    "y2_pred=regressor.predict(x2_test.values)\n",
    "y2_pred[:5]"
   ]
  },
  {
   "cell_type": "code",
   "execution_count": 26,
   "id": "fbfed66e",
   "metadata": {},
   "outputs": [
    {
     "data": {
      "text/html": [
       "<div>\n",
       "<style scoped>\n",
       "    .dataframe tbody tr th:only-of-type {\n",
       "        vertical-align: middle;\n",
       "    }\n",
       "\n",
       "    .dataframe tbody tr th {\n",
       "        vertical-align: top;\n",
       "    }\n",
       "\n",
       "    .dataframe thead th {\n",
       "        text-align: right;\n",
       "    }\n",
       "</style>\n",
       "<table border=\"1\" class=\"dataframe\">\n",
       "  <thead>\n",
       "    <tr style=\"text-align: right;\">\n",
       "      <th></th>\n",
       "      <th>TD</th>\n",
       "    </tr>\n",
       "  </thead>\n",
       "  <tbody>\n",
       "    <tr>\n",
       "      <th>522</th>\n",
       "      <td>0</td>\n",
       "    </tr>\n",
       "    <tr>\n",
       "      <th>284</th>\n",
       "      <td>3</td>\n",
       "    </tr>\n",
       "    <tr>\n",
       "      <th>514</th>\n",
       "      <td>0</td>\n",
       "    </tr>\n",
       "    <tr>\n",
       "      <th>331</th>\n",
       "      <td>0</td>\n",
       "    </tr>\n",
       "    <tr>\n",
       "      <th>210</th>\n",
       "      <td>4</td>\n",
       "    </tr>\n",
       "  </tbody>\n",
       "</table>\n",
       "</div>"
      ],
      "text/plain": [
       "     TD\n",
       "522   0\n",
       "284   3\n",
       "514   0\n",
       "331   0\n",
       "210   4"
      ]
     },
     "execution_count": 26,
     "metadata": {},
     "output_type": "execute_result"
    }
   ],
   "source": [
    "y2_test.head()"
   ]
  },
  {
   "cell_type": "code",
   "execution_count": 27,
   "id": "e0115489",
   "metadata": {},
   "outputs": [
    {
     "name": "stdout",
     "output_type": "stream",
     "text": [
      "r2 score 0.7280207475465672\n",
      "MSE 1.8819516214004655\n",
      "RMSE : 1.3718424185745481\n",
      "Previous Model was .70, this is slightly better\n"
     ]
    }
   ],
   "source": [
    "from sklearn.metrics import mean_squared_error, r2_score\n",
    "import math\n",
    "print(\"r2 score\", r2_score(y2_test, y2_pred))\n",
    "print(\"MSE\",mean_squared_error(y2_test, y2_pred))\n",
    "print(f\"RMSE : {math.sqrt(mean_squared_error(y2_test, y2_pred))}\")\n",
    "\n",
    "print(\"Previous Model was .70, this is slightly better\")"
   ]
  },
  {
   "cell_type": "markdown",
   "id": "c0cba217",
   "metadata": {},
   "source": [
    "# 2. Model #2 Predictions on all 2023 wide receivers"
   ]
  },
  {
   "cell_type": "code",
   "execution_count": 28,
   "id": "7d51844b",
   "metadata": {},
   "outputs": [
    {
     "data": {
      "text/plain": [
       "array([[13.80082433]])"
      ]
     },
     "execution_count": 28,
     "metadata": {},
     "output_type": "execute_result"
    }
   ],
   "source": [
    "# Tyreek Hill Real TD's: 13\n",
    "regressor.predict([[16,119,1799,15.1,1146,9.6,1847,15.5,653,5.5,85,0.7,12,171,0.311,131,12,24,64,29,14,9,5,78\n",
    "]])"
   ]
  },
  {
   "cell_type": "code",
   "execution_count": 29,
   "id": "db8160ab",
   "metadata": {},
   "outputs": [
    {
     "data": {
      "text/plain": [
       "array([[12.54852149]])"
      ]
     },
     "execution_count": 29,
     "metadata": {},
     "output_type": "execute_result"
    }
   ],
   "source": [
    "# CeeDee Lamb Real TD's: 12\n",
    "regressor.predict([[17,135,1749,13,1073,7.9,1726,12.8,676,5,207,1.5,11,181,0.299,143,6,31,73,29,8,3,1,92\n",
    "]])"
   ]
  },
  {
   "cell_type": "code",
   "execution_count": 30,
   "id": "a6417dd5",
   "metadata": {},
   "outputs": [
    {
     "data": {
      "text/plain": [
       "array([[9.85997767]])"
      ]
     },
     "execution_count": 30,
     "metadata": {},
     "output_type": "execute_result"
    }
   ],
   "source": [
    "# Amon-ra St. Brown Real TD's: 10\n",
    "regressor.predict([[16,119,1515,12.7,847,7.1,1297,10.9,668,5.6,159,1.3,10,164,0.286,127,8,23,60,24,6,3,1,70\n",
    "]])"
   ]
  },
  {
   "cell_type": "code",
   "execution_count": 31,
   "id": "06ff7edc",
   "metadata": {},
   "outputs": [
    {
     "data": {
      "text/plain": [
       "array([[8.69111907]])"
      ]
     },
     "execution_count": 31,
     "metadata": {},
     "output_type": "execute_result"
    }
   ],
   "source": [
    "# Puka Nacua Real TD's: 6\n",
    "regressor.predict([[17,105,1486,14.2,854,8.1,1453,13.8,632,6,233,2.2,7,160,0.288,117,13,16,59,25,10,3,2,80\n",
    "\n",
    "]])"
   ]
  },
  {
   "cell_type": "code",
   "execution_count": 32,
   "id": "5f599f34",
   "metadata": {},
   "outputs": [
    {
     "data": {
      "text/plain": [
       "array([[8.26545658]])"
      ]
     },
     "execution_count": 32,
     "metadata": {},
     "output_type": "execute_result"
    }
   ],
   "source": [
    "# AJ Brown Real TD's: 7\n",
    "regressor.predict([[17,106,1456,13.7,983,9.3,1852,17.5,473,4.5,215,2,9,158,0.301,111,7,15,62,21,9,3,1,59\n",
    "]])"
   ]
  },
  {
   "cell_type": "code",
   "execution_count": 33,
   "id": "250bee88",
   "metadata": {},
   "outputs": [
    {
     "data": {
      "text/plain": [
       "array([[8.24359239]])"
      ]
     },
     "execution_count": 33,
     "metadata": {},
     "output_type": "execute_result"
    }
   ],
   "source": [
    "# DJ Moore Real TD's: 8\n",
    "regressor.predict([[17,96,1364,14.2,825,8.6,1479,15.4,539,5.6,166,1.7,9,136,0.285,100,4,11,53,25,12,2,2,58\n",
    "\n",
    "]])"
   ]
  },
  {
   "cell_type": "code",
   "execution_count": 34,
   "id": "4b27f5d4",
   "metadata": {},
   "outputs": [
    {
     "data": {
      "text/plain": [
       "array([[8.7926033]])"
      ]
     },
     "execution_count": 34,
     "metadata": {},
     "output_type": "execute_result"
    }
   ],
   "source": [
    "# Brandon Aiyuk Real TD's: 7\n",
    "regressor.predict([[16,75,1342,17.9,960,12.8,1448,19.3,382,5.1,94,1.3,2,105,0.223,77,2,9,58,28,10,3,1,76\n",
    "\n",
    "\n",
    "]])"
   ]
  },
  {
   "cell_type": "code",
   "execution_count": 35,
   "id": "c27f463e",
   "metadata": {},
   "outputs": [
    {
     "data": {
      "text/plain": [
       "array([[9.17465639]])"
      ]
     },
     "execution_count": 35,
     "metadata": {},
     "output_type": "execute_result"
    }
   ],
   "source": [
    "# Nico Collins Real TD's: 8\n",
    "regressor.predict([[15,80,1297,16.2,750,9.4,1189,14.9,547,6.8,255,3.2,16,109,0.193,82,2,15,48,25,7,5,4,75\n",
    "\n",
    "\n",
    "\n",
    "]])"
   ]
  },
  {
   "cell_type": "code",
   "execution_count": 36,
   "id": "9a436f40",
   "metadata": {},
   "outputs": [
    {
     "data": {
      "text/plain": [
       "array([[8.35883533]])"
      ]
     },
     "execution_count": 36,
     "metadata": {},
     "output_type": "execute_result"
    }
   ],
   "source": [
    "# Mike Evans Real TD's: 13\n",
    "regressor.predict([[17,79,1255,15.9,933,11.8,1899,24,322,4.1,76,1,2,136,0.247,86,7,14,46,20,10,6,3,75\n",
    "\n",
    "\n",
    "\n",
    "\n",
    "]])"
   ]
  },
  {
   "cell_type": "code",
   "execution_count": 37,
   "id": "5410fddb",
   "metadata": {},
   "outputs": [
    {
     "data": {
      "text/plain": [
       "array([[8.58964032]])"
      ]
     },
     "execution_count": 37,
     "metadata": {},
     "output_type": "execute_result"
    }
   ],
   "source": [
    "# Amari Cooper Real TD's: 5\n",
    "regressor.predict([[15,72,1250,17.4,979,13.6,1811,25.2,271,3.8,68,0.9,2,128,0.214,79,7,13,47,21,8,8,5,75\n",
    "]])"
   ]
  },
  {
   "cell_type": "code",
   "execution_count": 38,
   "id": "7b124d71",
   "metadata": {},
   "outputs": [
    {
     "data": {
      "text/plain": [
       "array([[6.39681309]])"
      ]
     },
     "execution_count": 38,
     "metadata": {},
     "output_type": "execute_result"
    }
   ],
   "source": [
    "# Keenan Allen Real TD's: 7\n",
    "regressor.predict([[13,108,1243,11.5,847,7.8,1446,13.4,396,3.7,83,0.8,5,150,0.244,114,5,12,47,19,4,1,0,42\n",
    "\n",
    "]])"
   ]
  },
  {
   "cell_type": "code",
   "execution_count": 39,
   "id": "19fb9cb6",
   "metadata": {},
   "outputs": [
    {
     "data": {
      "text/plain": [
       "array([[7.20821923]])"
      ]
     },
     "execution_count": 39,
     "metadata": {},
     "output_type": "execute_result"
    }
   ],
   "source": [
    "# Ja'Marr Chase Real TD's: 7\n",
    "regressor.predict([[16,100,1216,12.2,675,6.8,1220,12.2,541,5.4,123,1.2,6,145,0.245,105,5,19,48,14,7,4,3,76\n",
    "\n",
    "\n",
    "]])"
   ]
  },
  {
   "cell_type": "code",
   "execution_count": 40,
   "id": "c67a3e59",
   "metadata": {},
   "outputs": [
    {
     "data": {
      "text/plain": [
       "array([[5.86265292]])"
      ]
     },
     "execution_count": 40,
     "metadata": {},
     "output_type": "execute_result"
    }
   ],
   "source": [
    "# Stefon Diggs Real TD's: 8\n",
    "regressor.predict([[17,107,1183,11.1,784,7.3,1653,15.4,399,3.7,163,1.5,10,160,0.294,115,8,15,50,10,6,2,1,55\n",
    "\n",
    "\n",
    "]])"
   ]
  },
  {
   "cell_type": "code",
   "execution_count": 41,
   "id": "8c5df4d4",
   "metadata": {},
   "outputs": [
    {
     "data": {
      "text/plain": [
       "array([[5.80217098]])"
      ]
     },
     "execution_count": 41,
     "metadata": {},
     "output_type": "execute_result"
    }
   ],
   "source": [
    "# Michael Pittman Real TD's: 4\n",
    "regressor.predict([[16,109,1152,10.6,639,5.9,1232,11.3,513,4.7,153,1.4,3,156,0.286,113,3,19,42,10,6,3,1,75\n",
    "\n",
    "]])"
   ]
  },
  {
   "cell_type": "code",
   "execution_count": 42,
   "id": "9af204ea",
   "metadata": {},
   "outputs": [
    {
     "data": {
      "text/plain": [
       "array([[8.44630563]])"
      ]
     },
     "execution_count": 42,
     "metadata": {},
     "output_type": "execute_result"
    }
   ],
   "source": [
    "# Davante Adams Real TD's: 8\n",
    "regressor.predict([[17,103,1144,11.1,808,7.8,1900,18.4,336,3.3,74,0.7,2,175,0.33,111,8,29,47,13,4,2,0,46\n",
    "\n",
    "]])"
   ]
  },
  {
   "cell_type": "code",
   "execution_count": 43,
   "id": "d15ba3e5",
   "metadata": {},
   "outputs": [
    {
     "data": {
      "text/plain": [
       "array([[7.08116323]])"
      ]
     },
     "execution_count": 43,
     "metadata": {},
     "output_type": "execute_result"
    }
   ],
   "source": [
    "# George Pickens Real TD's: 5\n",
    "regressor.predict([[17,63,1140,18.1,747,11.9,1423,22.6,393,6.2,108,1.7,5,106,0.219,65,2,8,42,22,11,6,3,86\n",
    "\n",
    "]])"
   ]
  },
  {
   "cell_type": "code",
   "execution_count": 44,
   "id": "fe0f2f4a",
   "metadata": {},
   "outputs": [
    {
     "data": {
      "text/plain": [
       "array([[5.72847251]])"
      ]
     },
     "execution_count": 44,
     "metadata": {},
     "output_type": "execute_result"
    }
   ],
   "source": [
    "# Chris Olave Real TD's: 5\n",
    "regressor.predict([[16,87,1123,12.9,776,8.9,1834,21.1,347,4,59,0.7,3,138,0.238,93,6,11,45,16,5,3,1,51\n",
    "\n",
    "]])"
   ]
  },
  {
   "cell_type": "code",
   "execution_count": 45,
   "id": "6e0e6508",
   "metadata": {},
   "outputs": [
    {
     "data": {
      "text/plain": [
       "array([[9.71832827]])"
      ]
     },
     "execution_count": 45,
     "metadata": {},
     "output_type": "execute_result"
    }
   ],
   "source": [
    "# DK Metcalf Real TD's: 8\n",
    "regressor.predict([[16,66,1114,16.9,747,11.3,1525,23.1,367,5.6,116,1.8,6,119,0.218,74,7,23,43,19,11,4,3,73\n",
    "]])"
   ]
  },
  {
   "cell_type": "code",
   "execution_count": 46,
   "id": "ae5224ce",
   "metadata": {},
   "outputs": [
    {
     "data": {
      "text/plain": [
       "array([[7.37292354]])"
      ]
     },
     "execution_count": 46,
     "metadata": {},
     "output_type": "execute_result"
    }
   ],
   "source": [
    "# Justin Jefferson Real TD's: 5\n",
    "regressor.predict([[10,68,1074,15.8,814,12,1258,18.5,260,3.8,92,1.4,2,100,0.165,72,1,11,42,25,7,2,1,52\n",
    "]])"
   ]
  },
  {
   "cell_type": "code",
   "execution_count": 47,
   "id": "bb5906ba",
   "metadata": {},
   "outputs": [
    {
     "data": {
      "text/plain": [
       "array([[5.69263591]])"
      ]
     },
     "execution_count": 47,
     "metadata": {},
     "output_type": "execute_result"
    }
   ],
   "source": [
    "# DeVonta Smith Real TD's: 7\n",
    "regressor.predict([[16,81,1066,13.2,772,9.5,1350,16.7,294,3.6,55,0.7,4,112,0.213,87,5,6,43,14,8,3,2,63\n",
    "]])"
   ]
  },
  {
   "cell_type": "code",
   "execution_count": 48,
   "id": "2cbe677c",
   "metadata": {},
   "outputs": [
    {
     "data": {
      "text/plain": [
       "array([[7.42893991]])"
      ]
     },
     "execution_count": 48,
     "metadata": {},
     "output_type": "execute_result"
    }
   ],
   "source": [
    "# DeAndre Hopkins Real TD's: 7\n",
    "regressor.predict([[17,75,1057,14.1,834,11.1,1928,25.7,223,3,61,0.8,4,137,0.287,80,4,17,41,15,7,4,1,61\n",
    "]])"
   ]
  },
  {
   "cell_type": "code",
   "execution_count": 49,
   "id": "672d3cc4",
   "metadata": {},
   "outputs": [
    {
     "data": {
      "text/plain": [
       "array([[5.66650315]])"
      ]
     },
     "execution_count": 49,
     "metadata": {},
     "output_type": "execute_result"
    }
   ],
   "source": [
    "# Garrett Wilson Real TD's: 3\n",
    "regressor.predict([[17,95,1042,11,715,7.5,1681,17.7,327,3.4,141,1.5,10,168,0.298,103,7,17,38,11,7,2,1,68\n",
    "]])"
   ]
  },
  {
   "cell_type": "code",
   "execution_count": 50,
   "id": "96b41cf4",
   "metadata": {},
   "outputs": [
    {
     "data": {
      "text/plain": [
       "array([[5.96026289]])"
      ]
     },
     "execution_count": 50,
     "metadata": {},
     "output_type": "execute_result"
    }
   ],
   "source": [
    "# Chris Godwin Real TD's: 2\n",
    "regressor.predict([[17,83,1024,12.3,639,7.7,1169,14.1,385,4.6,55,0.7,2,130,0.236,88,5,16,43,14,6,2,0,47\n",
    "]])"
   ]
  },
  {
   "cell_type": "code",
   "execution_count": 51,
   "id": "4f18001c",
   "metadata": {},
   "outputs": [
    {
     "data": {
      "text/plain": [
       "array([[9.03915375]])"
      ]
     },
     "execution_count": 51,
     "metadata": {},
     "output_type": "execute_result"
    }
   ],
   "source": [
    "# Calvin Ridley Real TD's: 8\n",
    "regressor.predict([[17,76,1016,13.4,822,10.8,1797,23.6,194,2.6,39,0.5,1,136,0.224,82,6,26,43,17,5,2,1,59\n",
    "]])"
   ]
  },
  {
   "cell_type": "code",
   "execution_count": 52,
   "id": "dbe70cff",
   "metadata": {},
   "outputs": [
    {
     "data": {
      "text/plain": [
       "array([[5.41587583]])"
      ]
     },
     "execution_count": 52,
     "metadata": {},
     "output_type": "execute_result"
    }
   ],
   "source": [
    "# Adam Thielen Real TD's: 4\n",
    "regressor.predict([[17,103,1014,9.8,669,6.5,1029,10,345,3.3,66,0.6,2,137,0.257,110,7,14,40,9,3,0,0,32\n",
    "]])"
   ]
  },
  {
   "cell_type": "code",
   "execution_count": 53,
   "id": "0a6de85c",
   "metadata": {},
   "outputs": [
    {
     "data": {
      "text/plain": [
       "array([[4.85004543]])"
      ]
     },
     "execution_count": 53,
     "metadata": {},
     "output_type": "execute_result"
    }
   ],
   "source": [
    "# Jaylen Waddle Real TD's: 4\n",
    "regressor.predict([[14,72,1014,14.1,593,8.2,1053,14.6,421,5.8,76,1.1,7,104,0.189,76,4,8,49,12,6,2,2,60\n",
    "]])"
   ]
  },
  {
   "cell_type": "code",
   "execution_count": 54,
   "id": "9d7304c5",
   "metadata": {},
   "outputs": [
    {
     "data": {
      "text/plain": [
       "array([[3.97053345]])"
      ]
     },
     "execution_count": 54,
     "metadata": {},
     "output_type": "execute_result"
    }
   ],
   "source": [
    "# Terry McLaurin Real TD's: 5\n",
    "regressor.predict([[17,79,1002,12.7,652,8.3,1508,19.1,350,4.4,103,1.3,4,132,0.22,84,5,8,41,15,6,2,0,48\n",
    "\n",
    "]])"
   ]
  },
  {
   "cell_type": "code",
   "execution_count": 55,
   "id": "bdb5686a",
   "metadata": {},
   "outputs": [
    {
     "data": {
      "text/plain": [
       "array([[6.35763533]])"
      ]
     },
     "execution_count": 55,
     "metadata": {},
     "output_type": "execute_result"
    }
   ],
   "source": [
    "# Rashee Rice Real TD's: 7\n",
    "regressor.predict([[16,79,938,11.9,285,3.6,492,6.2,653,8.3,134,1.7,3,102,0.17,87,8,22,36,10,4,1,1,67\n",
    "\n",
    "\n",
    "]])"
   ]
  },
  {
   "cell_type": "code",
   "execution_count": 56,
   "id": "1e023799",
   "metadata": {},
   "outputs": [
    {
     "data": {
      "text/plain": [
       "array([[6.54748686]])"
      ]
     },
     "execution_count": 56,
     "metadata": {},
     "output_type": "execute_result"
    }
   ],
   "source": [
    "# Jordan Addison Real TD's: 10\n",
    "regressor.predict([[17,70,911,13,649,9.3,1347,19.2,262,3.7,76,1.1,4,108,0.178,73,3,15,36,15,6,3,2,62\n",
    "\n",
    "]])"
   ]
  },
  {
   "cell_type": "code",
   "execution_count": 57,
   "id": "794bb8f0",
   "metadata": {},
   "outputs": [
    {
     "data": {
      "text/plain": [
       "array([[7.04774938]])"
      ]
     },
     "execution_count": 57,
     "metadata": {},
     "output_type": "execute_result"
    }
   ],
   "source": [
    "# Drake London Real TD's: 10\n",
    "regressor.predict([[16,69,905,13.1,721,10.4,1273,18.4,184,2.7,63,0.9,2,110,0.217,73,4,16,38,17,3,1,0,45\n",
    "]])"
   ]
  },
  {
   "cell_type": "code",
   "execution_count": 58,
   "id": "c55e6f27",
   "metadata": {},
   "outputs": [
    {
     "data": {
      "text/plain": [
       "array([[4.91621019]])"
      ]
     },
     "execution_count": 58,
     "metadata": {},
     "output_type": "execute_result"
    }
   ],
   "source": [
    "# Tyler Lockett TD's: 5\n",
    "regressor.predict([[17,79,894,11.3,674,8.5,1312,16.6,220,2.8,16,0.2,1,122,0.223,84,5,12,39,9,4,0,0,37\n",
    "]])"
   ]
  },
  {
   "cell_type": "code",
   "execution_count": 59,
   "id": "89ae0de5",
   "metadata": {},
   "outputs": [
    {
     "data": {
      "text/plain": [
       "array([[6.29972365]])"
      ]
     },
     "execution_count": 59,
     "metadata": {},
     "output_type": "execute_result"
    }
   ],
   "source": [
    "# Deebo Samuel TD's: 7\n",
    "regressor.predict([[15,60,892,14.9,365,6.1,588,9.8,527,8.8,173,2.9,12,89,0.189,63,2,17,32,15,8,6,1,54\n",
    "]])"
   ]
  },
  {
   "cell_type": "code",
   "execution_count": 60,
   "id": "83f72550",
   "metadata": {},
   "outputs": [
    {
     "data": {
      "text/plain": [
       "array([[5.79915726]])"
      ]
     },
     "execution_count": 60,
     "metadata": {},
     "output_type": "execute_result"
    }
   ],
   "source": [
    "# Zay Flowers TD's: 5\n",
    "regressor.predict([[16,77,858,11.1,467,6.1,911,11.8,391,5.1,55,0.7,9,108,0.227,82,4,13,31,12,5,4,2,75\n",
    "]])"
   ]
  },
  {
   "cell_type": "code",
   "execution_count": 61,
   "id": "3674a18a",
   "metadata": {},
   "outputs": [
    {
     "data": {
      "text/plain": [
       "array([[5.13810844]])"
      ]
     },
     "execution_count": 61,
     "metadata": {},
     "output_type": "execute_result"
    }
   ],
   "source": [
    "# Jakobi Meyers TD's: 8\n",
    "regressor.predict([[16,71,807,11.4,565,8,1028,14.5,242,3.4,55,0.8,6,106,0.2,73,2,15,38,8,2,0,0,33\n",
    "]])"
   ]
  },
  {
   "cell_type": "code",
   "execution_count": 62,
   "id": "57bf6ad9",
   "metadata": {},
   "outputs": [
    {
     "data": {
      "text/plain": [
       "array([[5.62874711]])"
      ]
     },
     "execution_count": 62,
     "metadata": {},
     "output_type": "execute_result"
    }
   ],
   "source": [
    "# Jayden Reed TD's: 8\n",
    "regressor.predict([[16,64,793,12.4,458,7.2,970,15.2,335,5.2,73,1.1,3,94,0.168,67,3,14,29,13,10,3,1,59\n",
    "\n",
    "]])"
   ]
  },
  {
   "cell_type": "code",
   "execution_count": 63,
   "id": "11e14cb1",
   "metadata": {},
   "outputs": [
    {
     "data": {
      "text/plain": [
       "array([[4.26071946]])"
      ]
     },
     "execution_count": 63,
     "metadata": {},
     "output_type": "execute_result"
    }
   ],
   "source": [
    "# Christian Kirk TD's: 3\n",
    "regressor.predict([[12,57,787,13.8,540,9.5,842,14.8,247,4.3,29,0.5,3,85,0.14,61,4,5,29,13,6,3,1,57\n",
    "\n",
    "]])"
   ]
  },
  {
   "cell_type": "code",
   "execution_count": 64,
   "id": "b4351afe",
   "metadata": {},
   "outputs": [
    {
     "data": {
      "text/plain": [
       "array([[7.1473226]])"
      ]
     },
     "execution_count": 64,
     "metadata": {},
     "output_type": "execute_result"
    }
   ],
   "source": [
    "# Courtland Sutton TD's: 10\n",
    "regressor.predict([[16,59,772,13.1,616,10.4,1060,18,156,2.6,41,0.7,0,90,0.189,65,6,17,32,14,7,2,0,46\n",
    "]])"
   ]
  },
  {
   "cell_type": "code",
   "execution_count": 65,
   "id": "4010270e",
   "metadata": {},
   "outputs": [
    {
     "data": {
      "text/plain": [
       "array([[4.07638988]])"
      ]
     },
     "execution_count": 65,
     "metadata": {},
     "output_type": "execute_result"
    }
   ],
   "source": [
    "# Josh Downs TD's: 2\n",
    "regressor.predict([[17,68,771,11.3,400,5.9,703,10.3,371,5.5,62,0.9,2,98,0.179,73,5,9,28,10,5,2,2,59\n",
    "]])"
   ]
  },
  {
   "cell_type": "code",
   "execution_count": 66,
   "id": "2e496a03",
   "metadata": {},
   "outputs": [
    {
     "data": {
      "text/plain": [
       "array([[4.20223863]])"
      ]
     },
     "execution_count": 66,
     "metadata": {},
     "output_type": "execute_result"
    }
   ],
   "source": [
    "# Darius Slayton TD's: 4\n",
    "regressor.predict([[17,50,770,15.4,472,9.4,960,19.2,298,6,70,1.4,5,79,0.163,53,3,4,26,11,6,3,2,80\n",
    "]])"
   ]
  },
  {
   "cell_type": "code",
   "execution_count": 67,
   "id": "71c7a056",
   "metadata": {},
   "outputs": [
    {
     "data": {
      "text/plain": [
       "array([[4.04205015]])"
      ]
     },
     "execution_count": 67,
     "metadata": {},
     "output_type": "execute_result"
    }
   ],
   "source": [
    "# Jerry Jeudy TD's: 2\n",
    "regressor.predict([[16,54,758,14,435,8.1,1109,20.5,323,6,78,1.4,4,87,0.182,56,2,10,29,10,6,5,0,47\n",
    "]])"
   ]
  },
  {
   "cell_type": "code",
   "execution_count": 68,
   "id": "45d2ff7c",
   "metadata": {},
   "outputs": [
    {
     "data": {
      "text/plain": [
       "array([[5.57599344]])"
      ]
     },
     "execution_count": 68,
     "metadata": {},
     "output_type": "execute_result"
    }
   ],
   "source": [
    "# Gabe Davis TD's: 7\n",
    "regressor.predict([[17,45,746,16.6,566,12.6,1231,27.4,180,4,42,0.9,1,81,0.149,48,3,11,27,12,6,2,1,57\n",
    "]])"
   ]
  },
  {
   "cell_type": "code",
   "execution_count": 69,
   "id": "ed7808c2",
   "metadata": {},
   "outputs": [
    {
     "data": {
      "text/plain": [
       "array([[6.11593093]])"
      ]
     },
     "execution_count": 69,
     "metadata": {},
     "output_type": "execute_result"
    }
   ],
   "source": [
    "# Cooper Kupp TD's: 5\n",
    "regressor.predict([[12,59,737,12.5,415,7,789,13.4,322,5.5,92,1.6,5,95,0.171,63,4,18,24,10,7,2,1,62\n",
    "]])"
   ]
  },
  {
   "cell_type": "code",
   "execution_count": 70,
   "id": "fc69d3ee",
   "metadata": {},
   "outputs": [
    {
     "data": {
      "text/plain": [
       "array([[5.09212791]])"
      ]
     },
     "execution_count": 70,
     "metadata": {},
     "output_type": "execute_result"
    }
   ],
   "source": [
    "# Rashid Shaheed TD's: 5\n",
    "regressor.predict([[16,46,719,15.6,568,12.3,1094,23.8,151,3.3,26,0.6,3,75,0.13,48,2,7,23,12,9,7,3,58\n",
    "]])"
   ]
  },
  {
   "cell_type": "code",
   "execution_count": 71,
   "id": "105ff680",
   "metadata": {},
   "outputs": [
    {
     "data": {
      "text/plain": [
       "array([[4.52734348]])"
      ]
     },
     "execution_count": 71,
     "metadata": {},
     "output_type": "execute_result"
    }
   ],
   "source": [
    "# Diontae Johnson TD's: 5\n",
    "regressor.predict([[13,51,717,14.1,456,8.9,1115,21.9,261,5.1,67,1.3,4,87,0.18,54,2,10,27,10,5,2,1,71\n",
    "]])"
   ]
  },
  {
   "cell_type": "code",
   "execution_count": 72,
   "id": "3788b3fb",
   "metadata": {},
   "outputs": [
    {
     "data": {
      "text/plain": [
       "array([[4.64128443]])"
      ]
     },
     "execution_count": 72,
     "metadata": {},
     "output_type": "execute_result"
    }
   ],
   "source": [
    "# Tank Dell TD's: 7\n",
    "regressor.predict([[11,47,709,15.1,557,11.9,1070,22.8,152,3.2,25,0.5,0,75,0.133,51,4,8,28,10,3,3,1,68\n",
    "]])"
   ]
  },
  {
   "cell_type": "code",
   "execution_count": 73,
   "id": "748c97eb",
   "metadata": {},
   "outputs": [
    {
     "data": {
      "text/plain": [
       "array([[5.75215174]])"
      ]
     },
     "execution_count": 73,
     "metadata": {},
     "output_type": "execute_result"
    }
   ],
   "source": [
    "# Romeo Doubs TD's: 8\n",
    "regressor.predict([[17,59,674,11.4,540,9.2,1126,19.1,134,2.3,33,0.6,1,96,0.171,64,6,18,31,7,3,0,0,36\n",
    "]])"
   ]
  },
  {
   "cell_type": "code",
   "execution_count": 74,
   "id": "ce278ecf",
   "metadata": {},
   "outputs": [
    {
     "data": {
      "text/plain": [
       "array([[2.55326883]])"
      ]
     },
     "execution_count": 74,
     "metadata": {},
     "output_type": "execute_result"
    }
   ],
   "source": [
    "# Tyler Boyd TD's: 2\n",
    "regressor.predict([[17,67,667,10,388,5.8,637,9.5,279,4.2,108,1.6,2,98,0.166,72,5,7,23,6,3,2,1,64\n",
    "]])"
   ]
  },
  {
   "cell_type": "code",
   "execution_count": 75,
   "id": "586bc214",
   "metadata": {},
   "outputs": [
    {
     "data": {
      "text/plain": [
       "array([[5.22256318]])"
      ]
     },
     "execution_count": 75,
     "metadata": {},
     "output_type": "execute_result"
    }
   ],
   "source": [
    "# Brandin Cooks TD's: 8\n",
    "regressor.predict([[16,54,657,12.2,532,9.9,1070,19.8,125,2.3,42,0.8,0,81,0.134,57,3,12,23,11,5,0,0,37\n",
    "]])"
   ]
  },
  {
   "cell_type": "code",
   "execution_count": 76,
   "id": "6966b098",
   "metadata": {},
   "outputs": [
    {
     "data": {
      "text/plain": [
       "array([[3.89730495]])"
      ]
     },
     "execution_count": 76,
     "metadata": {},
     "output_type": "execute_result"
    }
   ],
   "source": [
    "# Tee Higgins TD's: 5\n",
    "regressor.predict([[12,42,656,15.6,421,10,973,23.2,235,5.6,24,0.6,0,76,0.128,49,7,9,30,8,3,2,1,80\n",
    "]])"
   ]
  },
  {
   "cell_type": "code",
   "execution_count": 77,
   "id": "ce637266",
   "metadata": {},
   "outputs": [
    {
     "data": {
      "text/plain": [
       "array([[4.00776939]])"
      ]
     },
     "execution_count": 77,
     "metadata": {},
     "output_type": "execute_result"
    }
   ],
   "source": [
    "# Elijah Moore TD's: 2\n",
    "regressor.predict([[17,59,640,10.8,449,7.6,1143,19.4,191,3.2,38,0.6,4,104,0.174,64,5,13,27,9,3,1,0,42\n",
    "]])"
   ]
  },
  {
   "cell_type": "code",
   "execution_count": 78,
   "id": "fbc0fbb7",
   "metadata": {},
   "outputs": [
    {
     "data": {
      "text/plain": [
       "array([[3.11664869]])"
      ]
     },
     "execution_count": 78,
     "metadata": {},
     "output_type": "execute_result"
    }
   ],
   "source": [
    "# JSN TD's: 4\n",
    "regressor.predict([[17,63,628,10,262,4.2,569,9,366,5.8,55,0.9,3,93,0.17,72,10,10,27,7,3,0,0,35\n",
    "]])"
   ]
  },
  {
   "cell_type": "code",
   "execution_count": 79,
   "id": "d4b28281",
   "metadata": {},
   "outputs": [
    {
     "data": {
      "text/plain": [
       "array([[4.39007754]])"
      ]
     },
     "execution_count": 79,
     "metadata": {},
     "output_type": "execute_result"
    }
   ],
   "source": [
    "# Curtis Samuel TD's: 4\n",
    "regressor.predict([[16,62,613,9.9,353,5.7,599,9.7,260,4.2,59,1,4,91,0.151,64,2,15,21,7,4,0,0,37\n",
    "]])"
   ]
  },
  {
   "cell_type": "code",
   "execution_count": 80,
   "id": "734fb49f",
   "metadata": {},
   "outputs": [
    {
     "data": {
      "text/plain": [
       "array([[2.88105766]])"
      ]
     },
     "execution_count": 80,
     "metadata": {},
     "output_type": "execute_result"
    }
   ],
   "source": [
    "# Khalil Shakir TD's: 2\n",
    "regressor.predict([[17,39,611,15.7,329,8.4,402,10.3,282,7.2,51,1.3,0,45,0.083,39,0,2,25,10,4,2,1,81\n",
    "]])"
   ]
  },
  {
   "cell_type": "code",
   "execution_count": 81,
   "id": "13cc7142",
   "metadata": {},
   "outputs": [
    {
     "data": {
      "text/plain": [
       "array([[5.04775026]])"
      ]
     },
     "execution_count": 81,
     "metadata": {},
     "output_type": "execute_result"
    }
   ],
   "source": [
    "# Josh Reynolds TD's: 5\n",
    "regressor.predict([[17,40,608,15.2,435,10.9,645,16.1,173,4.3,51,1.3,2,64,0.111,44,4,10,26,17,1,0,0,33\n",
    "]])"
   ]
  },
  {
   "cell_type": "code",
   "execution_count": 82,
   "id": "b4f1564c",
   "metadata": {},
   "outputs": [
    {
     "data": {
      "text/plain": [
       "array([[3.89258935]])"
      ]
     },
     "execution_count": 82,
     "metadata": {},
     "output_type": "execute_result"
    }
   ],
   "source": [
    "# Dontayvion Wicks TD's: 4\n",
    "regressor.predict([[15,39,581,14.9,369,9.5,586,15,211,5.4,101,2.6,5,58,0.103,42,3,8,26,11,3,0,0,35\n",
    "]])"
   ]
  },
  {
   "cell_type": "code",
   "execution_count": 83,
   "id": "028474b8",
   "metadata": {},
   "outputs": [
    {
     "data": {
      "text/plain": [
       "array([[4.77789367]])"
      ]
     },
     "execution_count": 83,
     "metadata": {},
     "output_type": "execute_result"
    }
   ],
   "source": [
    "# Josh Palmer TD's: 2\n",
    "regressor.predict([[11,38,581,15.3,385,10.1,693,18.2,196,5.2,22,0.6,1,61,0.099,42,3,9,16,9,4,3,3,79\n",
    "]])"
   ]
  },
  {
   "cell_type": "code",
   "execution_count": 84,
   "id": "c2c67b1d",
   "metadata": {},
   "outputs": [
    {
     "data": {
      "text/plain": [
       "array([[2.65706127]])"
      ]
     },
     "execution_count": 84,
     "metadata": {},
     "output_type": "execute_result"
    }
   ],
   "source": [
    "# Marquise Brown TD's: 4\n",
    "regressor.predict([[14,51,574,11.3,410,8,1199,23.5,164,3.2,28,0.5,2,101,0.187,55,4,9,26,8,2,1,0,41\n",
    "]])"
   ]
  },
  {
   "cell_type": "code",
   "execution_count": 85,
   "id": "480cc0f9",
   "metadata": {},
   "outputs": [
    {
     "data": {
      "text/plain": [
       "array([[4.41387021]])"
      ]
     },
     "execution_count": 85,
     "metadata": {},
     "output_type": "execute_result"
    }
   ],
   "source": [
    "# Noah Brown TD's: 2\n",
    "regressor.predict([[10,33,567,17.2,344,10.4,658,19.9,223,6.8,59,1.8,1,55,0.097,36,3,7,19,14,6,1,1,75\n",
    "]])"
   ]
  },
  {
   "cell_type": "code",
   "execution_count": 86,
   "id": "8fb204ce",
   "metadata": {},
   "outputs": [
    {
     "data": {
      "text/plain": [
       "array([[3.69816992]])"
      ]
     },
     "execution_count": 86,
     "metadata": {},
     "output_type": "execute_result"
    }
   ],
   "source": [
    "# Michael Wilson TD's: 3\n",
    "regressor.predict([[13,38,565,14.9,426,11.2,716,18.8,139,3.7,37,1,3,58,0.107,38,0,7,26,7,2,1,1,69\n",
    "]])"
   ]
  },
  {
   "cell_type": "code",
   "execution_count": 87,
   "id": "4cc3cf17",
   "metadata": {},
   "outputs": [
    {
     "data": {
      "text/plain": [
       "array([[4.76269148]])"
      ]
     },
     "execution_count": 87,
     "metadata": {},
     "output_type": "execute_result"
    }
   ],
   "source": [
    "# OBJ TD's: 3\n",
    "regressor.predict([[14,35,565,16.1,410,11.7,888,25.4,155,4.4,35,1,1,64,0.134,38,3,11,22,10,5,3,1,51\n",
    "]])"
   ]
  },
  {
   "cell_type": "code",
   "execution_count": 88,
   "id": "8ef43e4a",
   "metadata": {},
   "outputs": [
    {
     "data": {
      "text/plain": [
       "array([[0.86772258]])"
      ]
     },
     "execution_count": 88,
     "metadata": {},
     "output_type": "execute_result"
    }
   ],
   "source": [
    "# DeMario Douglas TD's: 0\n",
    "regressor.predict([[14,49,561,11.4,225,4.6,648,13.2,336,6.9,46,0.9,1,79,0.146,50,1,4,26,6,3,2,0,42\n",
    "]])"
   ]
  },
  {
   "cell_type": "code",
   "execution_count": 89,
   "id": "c9da5942",
   "metadata": {},
   "outputs": [
    {
     "data": {
      "text/plain": [
       "array([[3.56505093]])"
      ]
     },
     "execution_count": 89,
     "metadata": {},
     "output_type": "execute_result"
    }
   ],
   "source": [
    "# KJ Osborn TD's: 3\n",
    "regressor.predict([[16,48,540,10.7,343,7.1,659,13.7,171,3.6,21,0.4,1,75,0.124,53,5,10,23,6,3,1,0,47\n",
    "]])"
   ]
  },
  {
   "cell_type": "code",
   "execution_count": 90,
   "id": "45947165",
   "metadata": {},
   "outputs": [
    {
     "data": {
      "text/plain": [
       "array([[3.32454849]])"
      ]
     },
     "execution_count": 90,
     "metadata": {},
     "output_type": "execute_result"
    }
   ],
   "source": [
    "# DJ Chark TD's: 5\n",
    "regressor.predict([[15,35,525,15,441,12.6,1016,29,84,2.4,27,0.8,1,66,0.124,38,4,6,23,9,3,2,0,47\n",
    "]])"
   ]
  },
  {
   "cell_type": "code",
   "execution_count": 91,
   "id": "54a45934",
   "metadata": {},
   "outputs": [
    {
     "data": {
      "text/plain": [
       "array([[1.35931386]])"
      ]
     },
     "execution_count": 91,
     "metadata": {},
     "output_type": "execute_result"
    }
   ],
   "source": [
    "# Wan'Dale Robinson TD's: 1\n",
    "regressor.predict([[15,60,525,8.8,238,4,410,6.8,287,4.8,80,1.3,5,78,0.161,63,3,2,20,7,2,0,0,33\n",
    "]])"
   ]
  },
  {
   "cell_type": "code",
   "execution_count": 92,
   "id": "3f9d76f8",
   "metadata": {},
   "outputs": [
    {
     "data": {
      "text/plain": [
       "array([[3.27039967]])"
      ]
     },
     "execution_count": 92,
     "metadata": {},
     "output_type": "execute_result"
    }
   ],
   "source": [
    "# Jahan Dotson TD's: 4\n",
    "regressor.predict([[17,49,518,10.6,403,8.2,774,15.8,115,2.3,24,0.5,0,83,0.138,53,5,11,24,5,1,0,0,33\n",
    "]])"
   ]
  },
  {
   "cell_type": "code",
   "execution_count": 93,
   "id": "7571b2af",
   "metadata": {},
   "outputs": [
    {
     "data": {
      "text/plain": [
       "array([[3.58857792]])"
      ]
     },
     "execution_count": 93,
     "metadata": {},
     "output_type": "execute_result"
    }
   ],
   "source": [
    "# Alec Pierce TD's: 2\n",
    "regressor.predict([[17,32,514,16.1,417,13,969,30.3,97,3,25,0.8,1,65,0.119,35,3,6,19,8,5,2,2,58\n",
    "]])"
   ]
  },
  {
   "cell_type": "code",
   "execution_count": 94,
   "id": "f9fe40f8",
   "metadata": {},
   "outputs": [
    {
     "data": {
      "text/plain": [
       "array([[2.47642544]])"
      ]
     },
     "execution_count": 94,
     "metadata": {},
     "output_type": "execute_result"
    }
   ],
   "source": [
    "# Kalif Raymond TD's: 1\n",
    "regressor.predict([[17,35,489,14,275,7.9,388,11.1,214,6.1,26,0.7,1,44,0.077,37,2,4,23,9,3,2,0,41\n",
    "]])"
   ]
  },
  {
   "cell_type": "code",
   "execution_count": 95,
   "id": "32fcbfac",
   "metadata": {},
   "outputs": [
    {
     "data": {
      "text/plain": [
       "array([[2.66360131]])"
      ]
     },
     "execution_count": 95,
     "metadata": {},
     "output_type": "execute_result"
    }
   ],
   "source": [
    "# Tutu Atwell TD's: 3\n",
    "regressor.predict([[16,39,483,12.4,379,9.7,767,19.7,104,2.7,12,0.3,0,67,0.121,43,4,5,20,8,5,2,0,44\n",
    "]])"
   ]
  },
  {
   "cell_type": "code",
   "execution_count": 96,
   "id": "398951c8",
   "metadata": {},
   "outputs": [
    {
     "data": {
      "text/plain": [
       "array([[3.50022439]])"
      ]
     },
     "execution_count": 96,
     "metadata": {},
     "output_type": "execute_result"
    }
   ],
   "source": [
    "# Justin Watson TD's: 3\n",
    "regressor.predict([[16,27,460,17,413,15.3,928,34.4,47,1.7,5,0.2,0,53,0.088,30,4,6,19,8,5,1,0,41\n",
    "]])"
   ]
  },
  {
   "cell_type": "code",
   "execution_count": 97,
   "id": "9f1adcb8",
   "metadata": {},
   "outputs": [
    {
     "data": {
      "text/plain": [
       "array([[3.07640479]])"
      ]
     },
     "execution_count": 97,
     "metadata": {},
     "output_type": "execute_result"
    }
   ],
   "source": [
    "# Michael Thomas TD's: 1\n",
    "regressor.predict([[10,39,448,11.5,348,8.9,650,16.7,100,2.6,30,0.8,2,64,0.111,42,3,9,18,4,1,0,0,31\n",
    "]])"
   ]
  },
  {
   "cell_type": "code",
   "execution_count": 98,
   "id": "2d4a0975",
   "metadata": {},
   "outputs": [
    {
     "data": {
      "text/plain": [
       "array([[2.59207443]])"
      ]
     },
     "execution_count": 98,
     "metadata": {},
     "output_type": "execute_result"
    }
   ],
   "source": [
    "# Quentin Johnton TD's: 2\n",
    "regressor.predict([[17,38,431,11.3,279,7.3,861,22.7,152,4,31,0.8,2,67,0.109,41,3,8,17,5,1,1,1,57\n",
    "]])"
   ]
  },
  {
   "cell_type": "code",
   "execution_count": 99,
   "id": "ae6acb2f",
   "metadata": {},
   "outputs": [
    {
     "data": {
      "text/plain": [
       "array([[2.28633331]])"
      ]
     },
     "execution_count": 99,
     "metadata": {},
     "output_type": "execute_result"
    }
   ],
   "source": [
    "# Robert Woods TD's: 1\n",
    "regressor.predict([[14,40,426,10.7,300,7.5,732,18.3,126,3.2,26,0.7,1,75,0.133,44,4,10,20,2,0,0,0,26\n",
    "]])"
   ]
  },
  {
   "cell_type": "code",
   "execution_count": null,
   "id": "929807c0",
   "metadata": {},
   "outputs": [],
   "source": []
  }
 ],
 "metadata": {
  "kernelspec": {
   "display_name": "Python 3 (ipykernel)",
   "language": "python",
   "name": "python3"
  },
  "language_info": {
   "codemirror_mode": {
    "name": "ipython",
    "version": 3
   },
   "file_extension": ".py",
   "mimetype": "text/x-python",
   "name": "python",
   "nbconvert_exporter": "python",
   "pygments_lexer": "ipython3",
   "version": "3.9.13"
  }
 },
 "nbformat": 4,
 "nbformat_minor": 5
}
